{
 "metadata": {
  "name": ""
 },
 "nbformat": 3,
 "nbformat_minor": 0,
 "worksheets": [
  {
   "cells": [
    {
     "cell_type": "heading",
     "level": 1,
     "metadata": {},
     "source": [
      "Robust Connect of Tinkerforge IMU and GPS and Write to File"
     ]
    },
    {
     "cell_type": "markdown",
     "metadata": {},
     "source": [
      "Based on [Tinkerforge Tutorial](http://www.tinkerforge.com/de/doc/Tutorials/Tutorial_Rugged/Tutorial.html#tutorial-rugged-approach)"
     ]
    },
    {
     "cell_type": "code",
     "collapsed": false,
     "input": [
      "from tinkerforge.ip_connection import IPConnection\n",
      "from tinkerforge.brick_imu import IMU\n",
      "from tinkerforge.bricklet_gps import GPS"
     ],
     "language": "python",
     "metadata": {},
     "outputs": [],
     "prompt_number": 1
    },
    {
     "cell_type": "code",
     "collapsed": false,
     "input": [
      "HOST = \"localhost\"\n",
      "PORT = 4223"
     ],
     "language": "python",
     "metadata": {},
     "outputs": [],
     "prompt_number": 2
    },
    {
     "cell_type": "code",
     "collapsed": false,
     "input": [
      "ipcon = IPConnection()"
     ],
     "language": "python",
     "metadata": {},
     "outputs": [],
     "prompt_number": 3
    },
    {
     "cell_type": "code",
     "collapsed": false,
     "input": [
      "def cb_enumerate(uid, connected_uid, position, hardware_version, \n",
      "                 firmware_version, device_identifier, enumeration_type):\n",
      "    \n",
      "    if connected_uid == '0':\n",
      "        print 'Master Brick UID: \\t%s' % (uid)\n",
      "    \n",
      "    #print 'UID: %s' % uid\n",
      "    #print 'connected_uid: %s' % connected_uid\n",
      "    #print 'position: %s' % position\n",
      "    #print 'hardware_version: %i.%i.%i' % hardware_version\n",
      "    #print 'firmware_version: %i.%i.%i' % firmware_version\n",
      "    #print 'device_identifier: %d' % device_identifier\n",
      "    #print 'enumeration_type: %d' % enumeration_type\n",
      "    \n",
      "    \n",
      "    if enumeration_type == IPConnection.ENUMERATION_TYPE_CONNECTED or \\\n",
      "       enumeration_type == IPConnection.ENUMERATION_TYPE_AVAILABLE:\n",
      "        \n",
      "        # Enumeration is for IMU Brick\n",
      "        if device_identifier == IMU.DEVICE_IDENTIFIER:\n",
      "            \n",
      "            print 'IMU Brick UID: \\t\\t%s' % (uid)\n",
      "            \n",
      "            # Create imu device object\n",
      "            imu = IMU(uid, ipcon) \n",
      "            imu.set_all_data_period(100)\n",
      "            imu.register_callback(imu.CALLBACK_ALL_DATA, cb_imudynamic)\n",
      "            \n",
      "            \n",
      "        # Enumeration is for GPS Bricklet\n",
      "        if device_identifier == GPS.DEVICE_IDENTIFIER:\n",
      "            \n",
      "            print 'GPS Bricklet UID: \\t%s' % (uid)\n",
      "            \n",
      "            # Create imu device object\n",
      "            gps = GPS(uid, ipcon) \n",
      "            gps.set_coordinates_callback_period(100)\n",
      "            gps.register_callback(gps.CALLBACK_COORDINATES, cb_coordinates)"
     ],
     "language": "python",
     "metadata": {},
     "outputs": [],
     "prompt_number": 4
    },
    {
     "cell_type": "code",
     "collapsed": false,
     "input": [
      "# Callback handles reconnection of IP Connection\n",
      "def cb_connected(connected_reason):\n",
      "    # Enumerate devices again. If we reconnected, the Bricks/Bricklets\n",
      "    # may have been offline and the configuration may be lost.\n",
      "    # In this case we don't care for the reason of the connection\n",
      "    ipcon.enumerate()"
     ],
     "language": "python",
     "metadata": {},
     "outputs": [],
     "prompt_number": 5
    },
    {
     "cell_type": "code",
     "collapsed": false,
     "input": [
      "def cb_imudynamic(acc_x, acc_y, acc_z, mag_x, mag_y, mag_z, ang_x, ang_y, ang_z, temp):\n",
      "    '''\n",
      "    Gibt die kalibrierten Beschleunigungen des Beschleunigungsmessers f\u00fcr die X, Y und Z-Achse in mG zur\u00fcck (G/1000, 1G = 9.80605m/s\u00b2).\n",
      "    '''\n",
      "    ax = acc_x*9.80605/1000.0\n",
      "    ay = acc_y*9.80605/1000.0\n",
      "    az = acc_z*9.80605/1000.0\n",
      "\n",
      "    '''\n",
      "    Gibt die kalibrierten Winkelgeschwindigkeiten des Gyroskops f\u00fcr die X, Y und Z-Achse in \u00b0/14,375s zur\u00fcck. (Um den Wert in \u00b0/s zu erhalten ist es notwendig durch 14,375 zu teilen)\n",
      "    '''\n",
      "    rollrate = ang_x/14.375\n",
      "    pitchrate= ang_y/14.375\n",
      "    yawrate =  ang_z/14.375\n",
      "\n",
      "    temp = temp/100.0\n",
      "    \n",
      "    with open('IMUdump.csv', 'a+b') as f:\n",
      "        f.write('%.3f,%.3f,%.3f,%.3f,%.3f,%.3f,%.1f\\n' % (ax, ay, az, rollrate, pitchrate, yawrate, temp))"
     ],
     "language": "python",
     "metadata": {},
     "outputs": []
    },
    {
     "cell_type": "code",
     "collapsed": false,
     "input": [
      "def cb_coordinates(latitude, ns, longitude, ew, pdop, hdop, vdop, epe):\n",
      "    '''\n",
      "    Gibt die GPS Koordinaten zur\u00fcck. Breitengrad und L\u00e4ngengrad werden im Format DD.dddddd\u00b0 angegeben, der Wert 57123468 bedeutet 57,123468\u00b0. Die Parameter ns und ew sind Himmelsrichtungen f\u00fcr Breiten- und L\u00e4ngengrad. M\u00f6gliche Werte f\u00fcr ns und ew sind 'N', 'S', 'E' und 'W' (Nord, S\u00fcd, Ost, West).\n",
      "    PDOP, HDOP und VDOP sind die \"Dilution Of Precision\" (DOP) Werte. Sie spezifizieren die zus\u00e4tzlichen multiplikativen Effekte von der GPS Satellitengeometrie auf die GPS-Pr\u00e4zision. hier gibt es mehr Informationen dazu. Die Werte werden in Hundertstel gegeben.\n",
      "    EPE ist der \"Estimated Position Error\". Der EPE wird in cm gegeben. Dies ist nicht der absolut maximale Fehler, es ist der Fehler mit einer spezifischen Konfidenz. Siehe hier f\u00fcr mehr Informationen.\n",
      "    '''    \n",
      "    lat = latitude/1000000.0\n",
      "    lon = longitude/1000000.0\n",
      "    pdop = pdop/100.0\n",
      "    hdop = hdop/100.0\n",
      "    vdop = vdop/100.0\n",
      "    epe = epe/100.0\n",
      "    \n",
      "    with open('GPSdump.csv', 'a+b') as f:\n",
      "        f.write('%.6f,%.6f,%.2f,%.2f,%.2f,%.2f\\n' % (lat, lon, pdop, hdop, vdop, epe))"
     ],
     "language": "python",
     "metadata": {},
     "outputs": []
    },
    {
     "cell_type": "code",
     "collapsed": false,
     "input": [
      "ipcon.register_callback(IPConnection.CALLBACK_ENUMERATE, cb_enumerate)\n",
      "ipcon.register_callback(IPConnection.CALLBACK_CONNECTED, cb_connected)"
     ],
     "language": "python",
     "metadata": {},
     "outputs": [],
     "prompt_number": 7
    },
    {
     "cell_type": "code",
     "collapsed": false,
     "input": [
      "ipcon.connect(HOST, PORT)"
     ],
     "language": "python",
     "metadata": {},
     "outputs": [],
     "prompt_number": 8
    },
    {
     "cell_type": "code",
     "collapsed": false,
     "input": [
      "raw_input('>>> Logging Data to file(s)... (Press key to exit)\\n')"
     ],
     "language": "python",
     "metadata": {},
     "outputs": [],
     "prompt_number": 8
    }
   ],
   "metadata": {}
  }
 ]
}